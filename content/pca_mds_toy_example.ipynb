{
 "cells": [
  {
   "cell_type": "markdown",
   "id": "fd7f1a0d-f357-44c7-8df8-f88050d61936",
   "metadata": {},
   "source": [
    "# Principal Component Analysis (PCA) and Multidimensional Scaling (MDS)"
   ]
  },
  {
   "cell_type": "markdown",
   "id": "172834a7-6288-42cc-90cc-9c3f81ee459e",
   "metadata": {},
   "source": [
    "In this notebook, we will learn similarities and differences between PCA and MDS and compute both of them from scratch."
   ]
  },
  {
   "cell_type": "markdown",
   "id": "a1fa7c5d-fe5e-47d1-a94b-be1e725c5c35",
   "metadata": {},
   "source": [
    "## PCA for population genetics\n",
    "PCA is a matrix factorization (eigen value decomposition) problem that attempts to project the data into a low dimensional space that explains the largest amount of variance in the data. The motivation is that, if the data is high-dimensional, many features (axes) can be redundant, therefore one can reduce the number of dimensions and make the statistical analysis more robust in this way. Graphically, PCA can be viewed as rotation and shift of coordinate system where the original 2D data with XY-coordinates are replaced by e.g. 1D data as PC1 which keeps most of the variation in the data. Note, that some information can be lost in this way, however, it can be statistically very benificial to work with lower-dimensional data."
   ]
  },
  {
   "cell_type": "markdown",
   "id": "45798458-aea4-46d8-a901-43b78acce3bd",
   "metadata": {},
   "source": [
    "![idea of PCA](data/pca_rotation.png)"
   ]
  },
  {
   "cell_type": "markdown",
   "id": "d7067191-1381-47af-be2e-00bb94a3eda2",
   "metadata": {},
   "source": [
    "In population genetics, we typically work with genetic variation (genotype) data encoded as 0, 1 and 2 by the number of minor allele carrier in the sample. Let us generate a toy genotype matrix for 5 individuals and 7 genetic variants."
   ]
  },
  {
   "cell_type": "code",
   "execution_count": 1,
   "id": "352b591b-50d6-466a-a775-9f34fe0c2906",
   "metadata": {},
   "outputs": [
    {
     "name": "stdout",
     "output_type": "stream",
     "text": [
      "     Ind1 Ind2 Ind3 Ind4 Ind5\n",
      "SNP1    1    1    1    0    0\n",
      "SNP2    0    1    2    1    2\n",
      "SNP3    2    1    1    0    1\n",
      "SNP4    0    0    1    2    2\n",
      "SNP5    2    1    1    0    0\n",
      "SNP6    0    0    1    1    1\n",
      "SNP7    2    2    1    1    0\n"
     ]
    }
   ],
   "source": [
    "gen <- t(matrix(c(1, 0, 2, 0, 2, 0, 2, 1, 1, 1, 0, 1, 0, 2, 1, 2, 1, 1, 1, 1, 1, 0, 1, 0, 2, 0, 1, 1, 0, 2, 1, 2, 0, 1, 0), 5, by = TRUE))\n",
    "colnames(gen) <- paste0(\"Ind\", 1:5)\n",
    "rownames(gen) <- paste0(\"SNP\", 1:7)\n",
    "print(gen)"
   ]
  },
  {
   "cell_type": "markdown",
   "id": "bd200591-631c-496d-be63-7f2ad908db2a",
   "metadata": {},
   "source": [
    "Now we are going to compute PCA from scratch in R. The PCA algorithm includes three steps:\n",
    "\n",
    "* mean centering the data\n",
    "* computing variance-covariance matrix\n",
    "* performing eigen value decomposition on the variance-covariance matrix\n",
    "\n",
    "Below, we will implement the three steps with repsect to the genotype matrix, and display the fraction of variance explained by each principal component."
   ]
  },
  {
   "cell_type": "code",
   "execution_count": 2,
   "id": "690d55db-5aa0-44de-a459-3e7e97f79ff2",
   "metadata": {},
   "outputs": [
    {
     "data": {
      "image/png": "[encoded data removed]",
      "text/plain": [
       "plot without title"
      ]
     },
     "metadata": {
      "image/png": {
       "height": 420,
       "width": 420
      }
     },
     "output_type": "display_data"
    }
   ],
   "source": [
    "gen_centered <- scale(gen, center = TRUE, scale = FALSE) # mean centering\n",
    "covariance <- t(gen_centered) %*% gen_centered # computing variance-covariance matrix\n",
    "eig <- eigen(covariance) # performing eigen value decomposition of the variance-covariance matrix\n",
    "\n",
    "barplot(eig$values / sum(eig$values), names = paste0(\"PC\", 1:5))"
   ]
  },
  {
   "cell_type": "markdown",
   "id": "30014532-25b0-4b2b-a940-65e082ad20e4",
   "metadata": {},
   "source": [
    "From the barplot above we can conclude that PC1 explains most of the variation (approximately 70%) in the genotype data, while the other PCs explain limited amount of variation, therefore one can say that our original 7-dimensional data is essentially 1-dimensional, or can be approximated with only **one dimension** with good accuracy. In this way we **dramatically reduced dimensionality of the data** from seven to one. Finally, let us visualize the 5 generated samples in two-dimensional space, i.e. using the leading PC1 and PC2 variables."
   ]
  },
  {
   "cell_type": "code",
   "execution_count": 3,
   "id": "aa572855-0db8-43c7-8675-7f2b2f5e5f0b",
   "metadata": {},
   "outputs": [
    {
     "data": {
      "image/png": "[encoded data removed]",
      "text/plain": [
       "plot without title"
      ]
     },
     "metadata": {
      "image/png": {
       "height": 420,
       "width": 420
      }
     },
     "output_type": "display_data"
    }
   ],
   "source": [
    "plot(eig$vectors[, 1:2], xlab = \"PC1\", ylab = \"PC2\", pch = 16, cex = 5, col = 2:6)\n",
    "points(eig$vectors[, 1:2], pch = as.character(1:5))"
   ]
  },
  {
   "cell_type": "markdown",
   "id": "6c22a1a7-ae18-4df4-824c-6cff2e882b48",
   "metadata": {},
   "source": [
    "## MDS for population genetics\n",
    "Multidimensional Scaling (MDS) is very closely related to PCA and sometimes used as a synonim. The idea of MDS is to project the data into a low dimensional space and preserve pairwise distances between data points as much as possible. Under the hood this is done by solving eigen value decomposition problem for a matrix of paiwise distances. Compare with PCA, where we did eigen value decomposition of a variance-covariance matrix, the latter can be sometimes viewed as a pairwise distance matrix. This is how MDS is related to PCA. Both do eigen value decomposition of some sort of matrix of pairwise distances. Note, some implementation of MDS do not perform eigen value decomposition but instead do a gradient descent minimization of **euclidean distance between the original data and an approximation as a product of two matrices (loadings and scores)**. This represents an alternative, machine learning style of matrix factorization."
   ]
  },
  {
   "cell_type": "markdown",
   "id": "528d0a9b-e4d0-448e-b443-54894976e36e",
   "metadata": {},
   "source": [
    "![machine learning idea of MDS](data/mds.png)"
   ]
  },
  {
   "cell_type": "markdown",
   "id": "7d652ebc-04c2-408f-bd4b-8f3860807f3d",
   "metadata": {},
   "source": [
    "Below, we will use the same genotype matrix as for PCA, and compute Manhattan distances between all pairs of data points, which is the sum of absolute values of pairwise genotype differences."
   ]
  },
  {
   "cell_type": "code",
   "execution_count": 4,
   "id": "3bc92c20-c71c-4710-acbd-b0085dcaaf33",
   "metadata": {},
   "outputs": [
    {
     "name": "stdout",
     "output_type": "stream",
     "text": [
      "     Ind1 Ind2 Ind3 Ind4 Ind5\n",
      "SNP1    1    1    1    0    0\n",
      "SNP2    0    1    2    1    2\n",
      "SNP3    2    1    1    0    1\n",
      "SNP4    0    0    1    2    2\n",
      "SNP5    2    1    1    0    0\n",
      "SNP6    0    0    1    1    1\n",
      "SNP7    2    2    1    1    0\n"
     ]
    }
   ],
   "source": [
    "gen <- t(matrix(c(1, 0, 2, 0, 2, 0, 2, 1, 1, 1, 0, 1, 0, 2, 1, 2, 1, 1, 1, 1, 1,\n",
    "    0, 1, 0, 2, 0, 1, 1, 0, 2, 1, 2, 0, 1, 0), 5, by = TRUE))\n",
    "colnames(gen) <- paste0(\"Ind\", 1:5)\n",
    "rownames(gen) <- paste0(\"SNP\", 1:7)\n",
    "print(gen)"
   ]
  },
  {
   "cell_type": "code",
   "execution_count": 5,
   "id": "cc9a60ca-4ed8-4761-92ef-34134a44cce8",
   "metadata": {},
   "outputs": [
    {
     "data": {
      "text/plain": [
       "     Ind1 Ind2 Ind3 Ind4 Ind5\n",
       "Ind1    0    3    7   10   11\n",
       "Ind2    3    0    4    7    8\n",
       "Ind3    7    4    0    5    4\n",
       "Ind4   10    7    5    0    3\n",
       "Ind5   11    8    4    3    0"
      ]
     },
     "metadata": {},
     "output_type": "display_data"
    }
   ],
   "source": [
    "my_dist <- dist(t(gen), method = \"manhattan\", upper = TRUE, diag = TRUE)\n",
    "my_dist"
   ]
  },
  {
   "cell_type": "markdown",
   "id": "6d888f68-c707-40b3-8f37-2ec353be65dc",
   "metadata": {},
   "source": [
    "Here, we can see that the Manhattan distance between for example individuals one and two is equal to 3 because there are three genotype differences at SNP2, SNP3 and SNP5. Now, we will use the **cmdscale** function in R that performs the classic / metric MDS. Under the hood this function does an eigen value decomposition of the matrix of pairwise Manhattan distances."
   ]
  },
  {
   "cell_type": "code",
   "execution_count": 6,
   "id": "62aac102-206c-4c08-9748-74033ab520dd",
   "metadata": {},
   "outputs": [
    {
     "data": {
      "text/html": [
       "<table class=\"dataframe\">\n",
       "<caption>A matrix: 5 × 2 of type dbl</caption>\n",
       "<tbody>\n",
       "\t<tr><th scope=row>Ind1</th><td>-6.114866</td><td> 0.2977272</td></tr>\n",
       "\t<tr><th scope=row>Ind2</th><td>-3.077094</td><td> 0.2402932</td></tr>\n",
       "\t<tr><th scope=row>Ind3</th><td> 0.621230</td><td>-1.7944048</td></tr>\n",
       "\t<tr><th scope=row>Ind4</th><td> 3.723118</td><td> 2.1483083</td></tr>\n",
       "\t<tr><th scope=row>Ind5</th><td> 4.847612</td><td>-0.8919238</td></tr>\n",
       "</tbody>\n",
       "</table>\n"
      ],
      "text/latex": [
       "A matrix: 5 × 2 of type dbl\n",
       "\\begin{tabular}{r|ll}\n",
       "\tInd1 & -6.114866 &  0.2977272\\\\\n",
       "\tInd2 & -3.077094 &  0.2402932\\\\\n",
       "\tInd3 &  0.621230 & -1.7944048\\\\\n",
       "\tInd4 &  3.723118 &  2.1483083\\\\\n",
       "\tInd5 &  4.847612 & -0.8919238\\\\\n",
       "\\end{tabular}\n"
      ],
      "text/markdown": [
       "\n",
       "A matrix: 5 × 2 of type dbl\n",
       "\n",
       "| Ind1 | -6.114866 |  0.2977272 |\n",
       "| Ind2 | -3.077094 |  0.2402932 |\n",
       "| Ind3 |  0.621230 | -1.7944048 |\n",
       "| Ind4 |  3.723118 |  2.1483083 |\n",
       "| Ind5 |  4.847612 | -0.8919238 |\n",
       "\n"
      ],
      "text/plain": [
       "     [,1]      [,2]      \n",
       "Ind1 -6.114866  0.2977272\n",
       "Ind2 -3.077094  0.2402932\n",
       "Ind3  0.621230 -1.7944048\n",
       "Ind4  3.723118  2.1483083\n",
       "Ind5  4.847612 -0.8919238"
      ]
     },
     "metadata": {},
     "output_type": "display_data"
    }
   ],
   "source": [
    "my_mds <- cmdscale(my_dist)\n",
    "my_mds"
   ]
  },
  {
   "cell_type": "markdown",
   "id": "4d35e344-d8c8-46b8-9b68-499062d10c8d",
   "metadata": {},
   "source": [
    "Please take a look at the first latent variable in **my_mds**. Interestengly, if you look at the absolute value of the difference between e.g. individuals 1 and 2, it will be close to 3, between individuals 1 and 3 will be nearly 7 etc. This corresponds to the values in the pairwise Manhattan distances in the **my_dist** matrix above. Therefore, as it was emphasized previously, the point of MDS is to preserve pairwise distances while doing dimension reduction. Finally, let us visualize the 5 individuals in the MDS space and compare it with PCA."
   ]
  },
  {
   "cell_type": "code",
   "execution_count": 7,
   "id": "6c6d424b-e632-4c43-8720-89cb1aa70190",
   "metadata": {},
   "outputs": [
    {
     "data": {
      "image/png": "[encoded data removed]",
      "text/plain": [
       "plot without title"
      ]
     },
     "metadata": {
      "image/png": {
       "height": 420,
       "width": 420
      }
     },
     "output_type": "display_data"
    }
   ],
   "source": [
    "plot(my_mds, xlab = \"MDS1\", ylab = \"MDS2\", pch = 16, cex = 5, col = 6:2)\n",
    "points(my_mds, pch = as.character(5:1))"
   ]
  },
  {
   "cell_type": "markdown",
   "id": "a4a50a0b-28f8-4581-9259-75e7ea9cbcdd",
   "metadata": {},
   "source": [
    "Overall, this picture looks quite similar to the PCA plot above. This is not suprising since both PCA and MDS are based on very similar principles, and typically agree with each other for real-world datasets."
   ]
  },
  {
   "cell_type": "code",
   "execution_count": null,
   "id": "e77379d7-ec62-4828-8e4c-40bb334072b5",
   "metadata": {},
   "outputs": [],
   "source": []
  }
 ],
 "metadata": {
  "kernelspec": {
   "display_name": "R",
   "language": "R",
   "name": "ir"
  },
  "language_info": {
   "codemirror_mode": "r",
   "file_extension": ".r",
   "mimetype": "text/x-r-source",
   "name": "R",
   "pygments_lexer": "r",
   "version": "4.2.3"
  }
 },
 "nbformat": 4,
 "nbformat_minor": 5
}
